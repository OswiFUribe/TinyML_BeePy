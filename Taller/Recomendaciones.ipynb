{
 "cells": [
  {
   "cell_type": "markdown",
   "metadata": {},
   "source": [
    "# Documentación y Ejemplos del Tiny Machine Learning\n",
    "\n",
    "El lugar más completo, de información más fiable y de centro de búsqueda que pueden querer acerca del TinyML es sin duda alguna la [Fundación tinyML](https://www.tinyml.org/about/) que contine no solo información teórica y documentación de ejemplos y librerias, sino también organizan simposios y conferencias anuales gratuitas gracias a sus patrocinadores como Arduino, Qualcomm, P&G, Sony y muchos más.\n",
    "\n",
    "Y junto a la fundación tinyML, [Harvard TinyMLx](https://pll.harvard.edu/course/fundamentals-tinyml) fue de los fundadores y pioneros en el área, además de impulsar activamente iniciativas de educación y proveer recursos gratuitos.\n",
    "\n",
    "Pero si de verdad buscan una página en donde todo esto se une y comienza a almacenar cursos, libros, conferencias y demás, esa sería [Tiny Machine Learning Open Education Initiative](http://tinyml.seas.harvard.edu), una iniciativa creadas por académicos y profesionales en la industria que trabajan activamente en mejorar el acceso global a material educativo de frontera en el campo del TinyML.\n",
    "\n",
    "## Cursos completos gratuitos:\n",
    "\n",
    "- [Fundamentos del TinyML (edX)](https://www.edx.org/course/fundamentals-of-tinyml)\n",
    "- [Aplicaciones del TinyML (edX)](https://www.edx.org/course/applications-of-tinyml)\n",
    "- [Desplegando TinyML(edX)](https://www.edx.org/course/deploying-tinyml)\n",
    "- [Operaciones de Machine Learning para escalar TinyML (edX)](https://www.edx.org/course/mlops-for-scaling-tinyml)\n",
    "- [Introducción al Machine Learning Embedido (Coursera)](https://www.coursera.org/learn/introduction-to-embedded-machine-learning)\n",
    "- [Computer Vision con Machine Learning Embedido (Coursera)](https://www.coursera.org/learn/computer-vision-with-embedded-machine-learning)\n",
    "\n",
    "Y muchos más en plataformas como [Tiny Machine Learning Open Education Initiative](http://tinyml.seas.harvard.edu)\n",
    "\n",
    "## Talleres y conferencias:\n",
    "\n",
    "- [SciTinyML](http://tinyml.seas.harvard.edu/SciTinyML-21/):\n",
    "Uso científico del Machine Learning en dispositivos de baja potencia.\n",
    "\n",
    "- [CRESTLEX](http://tinyml.seas.harvard.edu/CRESTLEX3/): \n",
    "Talleres para profesores y alumnos de preparatoria para explorar aplicaciones reales de inteligencia artificial a traves de proyectos de TinyML.\n",
    "\n",
    "- [Edge ML University Program](https://tinyml.seas.harvard.edu/EdgeMLUP-23/#:~:text=Edge%20ML%20University%20Program): \n",
    "Talleres que apuntan a desarrollar cursos y programas de estudio en Machine Learning Embedido en universidades.\n",
    "\n",
    "- [MoroccoAI](https://summerschool.morocco.ai/aboutus): \n",
    "Una escuela de verano diseñada para enseñar tópicos de Inteligencia Artificial de frontera.\n",
    "\n",
    "- [Inteligencia Artificial y su integración en el Día a Día](https://github.com/EdwinMarteZorrilla/tinyML-UTESA): \n",
    "Un repositorio en español con algunos tutoriales de inteligencia artificial con talleres y videos, entre ellos aplicaciones de TinyML en el espacio.\n",
    "\n",
    "- [Repositorio principal de tinyMLx](https://github.com/tinyMLx)\n",
    "\n",
    "- [tinyML Papers and Projects](https://github.com/gigwegbe/tinyml-papers-and-projects):\n",
    "Una lista de papers y projectos de TinyML de los últimos años, así como libros, cursos, charlas y demás.\n",
    "\n",
    "## Libros:\n",
    "\n",
    "- [TinyML](https://tinymlbook.com/):\n",
    "[Pete Warden Daniel Situnayake](https://petewarden.com/)\n",
    "Tiny Machine Learning con Tensor Flow Lite en Arduino y microcontroladores de baja potencia.\n",
    "\n",
    "- [TinyML Cookbook](https://www.packtpub.com/product/tinyml-cookbook/9781801814973):\n",
    "[Gian Marco Iodice](https://www.linkedin.com/in/gian-marco-iodice-3183a9a1/)\n",
    "Combina la inteligencia artificial y dispositivos de ultra baja potencia para hacer el mundo más inteligente."
   ]
  },
  {
   "cell_type": "markdown",
   "metadata": {},
   "source": [
    "##"
   ]
  },
  {
   "cell_type": "code",
   "execution_count": null,
   "metadata": {},
   "outputs": [],
   "source": []
  }
 ],
 "metadata": {
  "kernelspec": {
   "display_name": "base",
   "language": "python",
   "name": "python3"
  },
  "language_info": {
   "name": "python",
   "version": "3.9.17"
  }
 },
 "nbformat": 4,
 "nbformat_minor": 2
}
